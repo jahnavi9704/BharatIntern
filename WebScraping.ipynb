{
  "nbformat": 4,
  "nbformat_minor": 0,
  "metadata": {
    "colab": {
      "provenance": [],
      "authorship_tag": "ABX9TyOdiNXSZ3CsEzvdv76UbbaF",
      "include_colab_link": true
    },
    "kernelspec": {
      "name": "python3",
      "display_name": "Python 3"
    },
    "language_info": {
      "name": "python"
    }
  },
  "cells": [
    {
      "cell_type": "markdown",
      "metadata": {
        "id": "view-in-github",
        "colab_type": "text"
      },
      "source": [
        "<a href=\"https://colab.research.google.com/github/jahnavi9704/BharatIntern/blob/main/WebScraping.ipynb\" target=\"_parent\"><img src=\"https://colab.research.google.com/assets/colab-badge.svg\" alt=\"Open In Colab\"/></a>"
      ]
    },
    {
      "cell_type": "code",
      "source": [
        "%load_ext rpy2.ipython"
      ],
      "metadata": {
        "id": "jDLAFLaqzCTA"
      },
      "execution_count": 3,
      "outputs": []
    },
    {
      "cell_type": "code",
      "source": [
        "#installing and importing packages\n",
        "%%R\n",
        "install.packages(\"rvest\")\n",
        "install.packages(\"dplyr\")\n",
        "\n",
        "library(dplyr)\n",
        "library(rvest)"
      ],
      "metadata": {
        "colab": {
          "base_uri": "https://localhost:8080/"
        },
        "id": "5upBVwixli6o",
        "outputId": "61efb9c3-39dd-4e8c-f259-a4ffda50fe4b"
      },
      "execution_count": 5,
      "outputs": [
        {
          "output_type": "stream",
          "name": "stderr",
          "text": [
            "WARNING:rpy2.rinterface_lib.callbacks:R[write to console]: Installing package into ‘/usr/local/lib/R/site-library’\n",
            "(as ‘lib’ is unspecified)\n",
            "\n",
            "WARNING:rpy2.rinterface_lib.callbacks:R[write to console]: trying URL 'https://cran.rstudio.com/src/contrib/rvest_1.0.3.tar.gz'\n",
            "\n",
            "WARNING:rpy2.rinterface_lib.callbacks:R[write to console]: Content type 'application/x-gzip'\n",
            "WARNING:rpy2.rinterface_lib.callbacks:R[write to console]:  length 94659 bytes (92 KB)\n",
            "\n",
            "WARNING:rpy2.rinterface_lib.callbacks:R[write to console]: =\n",
            "WARNING:rpy2.rinterface_lib.callbacks:R[write to console]: =\n",
            "WARNING:rpy2.rinterface_lib.callbacks:R[write to console]: =\n",
            "WARNING:rpy2.rinterface_lib.callbacks:R[write to console]: =\n",
            "WARNING:rpy2.rinterface_lib.callbacks:R[write to console]: =\n",
            "WARNING:rpy2.rinterface_lib.callbacks:R[write to console]: =\n",
            "WARNING:rpy2.rinterface_lib.callbacks:R[write to console]: =\n",
            "WARNING:rpy2.rinterface_lib.callbacks:R[write to console]: =\n",
            "WARNING:rpy2.rinterface_lib.callbacks:R[write to console]: =\n",
            "WARNING:rpy2.rinterface_lib.callbacks:R[write to console]: =\n",
            "WARNING:rpy2.rinterface_lib.callbacks:R[write to console]: =\n",
            "WARNING:rpy2.rinterface_lib.callbacks:R[write to console]: =\n",
            "WARNING:rpy2.rinterface_lib.callbacks:R[write to console]: =\n",
            "WARNING:rpy2.rinterface_lib.callbacks:R[write to console]: =\n",
            "WARNING:rpy2.rinterface_lib.callbacks:R[write to console]: =\n",
            "WARNING:rpy2.rinterface_lib.callbacks:R[write to console]: =\n",
            "WARNING:rpy2.rinterface_lib.callbacks:R[write to console]: =\n",
            "WARNING:rpy2.rinterface_lib.callbacks:R[write to console]: =\n",
            "WARNING:rpy2.rinterface_lib.callbacks:R[write to console]: =\n",
            "WARNING:rpy2.rinterface_lib.callbacks:R[write to console]: =\n",
            "WARNING:rpy2.rinterface_lib.callbacks:R[write to console]: =\n",
            "WARNING:rpy2.rinterface_lib.callbacks:R[write to console]: =\n",
            "WARNING:rpy2.rinterface_lib.callbacks:R[write to console]: =\n",
            "WARNING:rpy2.rinterface_lib.callbacks:R[write to console]: =\n",
            "WARNING:rpy2.rinterface_lib.callbacks:R[write to console]: =\n",
            "WARNING:rpy2.rinterface_lib.callbacks:R[write to console]: =\n",
            "WARNING:rpy2.rinterface_lib.callbacks:R[write to console]: =\n",
            "WARNING:rpy2.rinterface_lib.callbacks:R[write to console]: =\n",
            "WARNING:rpy2.rinterface_lib.callbacks:R[write to console]: =\n",
            "WARNING:rpy2.rinterface_lib.callbacks:R[write to console]: =\n",
            "WARNING:rpy2.rinterface_lib.callbacks:R[write to console]: =\n",
            "WARNING:rpy2.rinterface_lib.callbacks:R[write to console]: =\n",
            "WARNING:rpy2.rinterface_lib.callbacks:R[write to console]: =\n",
            "WARNING:rpy2.rinterface_lib.callbacks:R[write to console]: =\n",
            "WARNING:rpy2.rinterface_lib.callbacks:R[write to console]: =\n",
            "WARNING:rpy2.rinterface_lib.callbacks:R[write to console]: =\n",
            "WARNING:rpy2.rinterface_lib.callbacks:R[write to console]: =\n",
            "WARNING:rpy2.rinterface_lib.callbacks:R[write to console]: =\n",
            "WARNING:rpy2.rinterface_lib.callbacks:R[write to console]: =\n",
            "WARNING:rpy2.rinterface_lib.callbacks:R[write to console]: =\n",
            "WARNING:rpy2.rinterface_lib.callbacks:R[write to console]: =\n",
            "WARNING:rpy2.rinterface_lib.callbacks:R[write to console]: =\n",
            "WARNING:rpy2.rinterface_lib.callbacks:R[write to console]: =\n",
            "WARNING:rpy2.rinterface_lib.callbacks:R[write to console]: =\n",
            "WARNING:rpy2.rinterface_lib.callbacks:R[write to console]: =\n",
            "WARNING:rpy2.rinterface_lib.callbacks:R[write to console]: =\n",
            "WARNING:rpy2.rinterface_lib.callbacks:R[write to console]: =\n",
            "WARNING:rpy2.rinterface_lib.callbacks:R[write to console]: =\n",
            "WARNING:rpy2.rinterface_lib.callbacks:R[write to console]: =\n",
            "WARNING:rpy2.rinterface_lib.callbacks:R[write to console]: =\n",
            "WARNING:rpy2.rinterface_lib.callbacks:R[write to console]: \n",
            "\n",
            "WARNING:rpy2.rinterface_lib.callbacks:R[write to console]: downloaded 92 KB\n",
            "\n",
            "\n",
            "WARNING:rpy2.rinterface_lib.callbacks:R[write to console]: \n",
            "\n",
            "WARNING:rpy2.rinterface_lib.callbacks:R[write to console]: \n",
            "WARNING:rpy2.rinterface_lib.callbacks:R[write to console]: The downloaded source packages are in\n",
            "\t‘/tmp/RtmpE90rpv/downloaded_packages’\n",
            "WARNING:rpy2.rinterface_lib.callbacks:R[write to console]: \n",
            "WARNING:rpy2.rinterface_lib.callbacks:R[write to console]: \n",
            "\n",
            "WARNING:rpy2.rinterface_lib.callbacks:R[write to console]: Installing package into ‘/usr/local/lib/R/site-library’\n",
            "(as ‘lib’ is unspecified)\n",
            "\n",
            "WARNING:rpy2.rinterface_lib.callbacks:R[write to console]: trying URL 'https://cran.rstudio.com/src/contrib/dplyr_1.1.4.tar.gz'\n",
            "\n",
            "WARNING:rpy2.rinterface_lib.callbacks:R[write to console]: Content type 'application/x-gzip'\n",
            "WARNING:rpy2.rinterface_lib.callbacks:R[write to console]:  length 1207521 bytes (1.2 MB)\n",
            "\n",
            "WARNING:rpy2.rinterface_lib.callbacks:R[write to console]: =\n",
            "WARNING:rpy2.rinterface_lib.callbacks:R[write to console]: =\n",
            "WARNING:rpy2.rinterface_lib.callbacks:R[write to console]: =\n",
            "WARNING:rpy2.rinterface_lib.callbacks:R[write to console]: =\n",
            "WARNING:rpy2.rinterface_lib.callbacks:R[write to console]: =\n",
            "WARNING:rpy2.rinterface_lib.callbacks:R[write to console]: =\n",
            "WARNING:rpy2.rinterface_lib.callbacks:R[write to console]: =\n",
            "WARNING:rpy2.rinterface_lib.callbacks:R[write to console]: =\n",
            "WARNING:rpy2.rinterface_lib.callbacks:R[write to console]: =\n",
            "WARNING:rpy2.rinterface_lib.callbacks:R[write to console]: =\n",
            "WARNING:rpy2.rinterface_lib.callbacks:R[write to console]: =\n",
            "WARNING:rpy2.rinterface_lib.callbacks:R[write to console]: =\n",
            "WARNING:rpy2.rinterface_lib.callbacks:R[write to console]: =\n",
            "WARNING:rpy2.rinterface_lib.callbacks:R[write to console]: =\n",
            "WARNING:rpy2.rinterface_lib.callbacks:R[write to console]: =\n",
            "WARNING:rpy2.rinterface_lib.callbacks:R[write to console]: =\n",
            "WARNING:rpy2.rinterface_lib.callbacks:R[write to console]: =\n",
            "WARNING:rpy2.rinterface_lib.callbacks:R[write to console]: =\n",
            "WARNING:rpy2.rinterface_lib.callbacks:R[write to console]: =\n",
            "WARNING:rpy2.rinterface_lib.callbacks:R[write to console]: =\n",
            "WARNING:rpy2.rinterface_lib.callbacks:R[write to console]: =\n",
            "WARNING:rpy2.rinterface_lib.callbacks:R[write to console]: =\n",
            "WARNING:rpy2.rinterface_lib.callbacks:R[write to console]: =\n",
            "WARNING:rpy2.rinterface_lib.callbacks:R[write to console]: =\n",
            "WARNING:rpy2.rinterface_lib.callbacks:R[write to console]: =\n",
            "WARNING:rpy2.rinterface_lib.callbacks:R[write to console]: =\n",
            "WARNING:rpy2.rinterface_lib.callbacks:R[write to console]: =\n",
            "WARNING:rpy2.rinterface_lib.callbacks:R[write to console]: =\n",
            "WARNING:rpy2.rinterface_lib.callbacks:R[write to console]: =\n",
            "WARNING:rpy2.rinterface_lib.callbacks:R[write to console]: =\n",
            "WARNING:rpy2.rinterface_lib.callbacks:R[write to console]: =\n",
            "WARNING:rpy2.rinterface_lib.callbacks:R[write to console]: =\n",
            "WARNING:rpy2.rinterface_lib.callbacks:R[write to console]: =\n",
            "WARNING:rpy2.rinterface_lib.callbacks:R[write to console]: =\n",
            "WARNING:rpy2.rinterface_lib.callbacks:R[write to console]: =\n",
            "WARNING:rpy2.rinterface_lib.callbacks:R[write to console]: =\n",
            "WARNING:rpy2.rinterface_lib.callbacks:R[write to console]: =\n",
            "WARNING:rpy2.rinterface_lib.callbacks:R[write to console]: =\n",
            "WARNING:rpy2.rinterface_lib.callbacks:R[write to console]: =\n",
            "WARNING:rpy2.rinterface_lib.callbacks:R[write to console]: =\n",
            "WARNING:rpy2.rinterface_lib.callbacks:R[write to console]: =\n",
            "WARNING:rpy2.rinterface_lib.callbacks:R[write to console]: =\n",
            "WARNING:rpy2.rinterface_lib.callbacks:R[write to console]: =\n",
            "WARNING:rpy2.rinterface_lib.callbacks:R[write to console]: =\n",
            "WARNING:rpy2.rinterface_lib.callbacks:R[write to console]: =\n",
            "WARNING:rpy2.rinterface_lib.callbacks:R[write to console]: =\n",
            "WARNING:rpy2.rinterface_lib.callbacks:R[write to console]: =\n",
            "WARNING:rpy2.rinterface_lib.callbacks:R[write to console]: =\n",
            "WARNING:rpy2.rinterface_lib.callbacks:R[write to console]: =\n",
            "WARNING:rpy2.rinterface_lib.callbacks:R[write to console]: =\n",
            "WARNING:rpy2.rinterface_lib.callbacks:R[write to console]: \n",
            "\n",
            "WARNING:rpy2.rinterface_lib.callbacks:R[write to console]: downloaded 1.2 MB\n",
            "\n",
            "\n",
            "WARNING:rpy2.rinterface_lib.callbacks:R[write to console]: \n",
            "\n",
            "WARNING:rpy2.rinterface_lib.callbacks:R[write to console]: \n",
            "WARNING:rpy2.rinterface_lib.callbacks:R[write to console]: The downloaded source packages are in\n",
            "\t‘/tmp/RtmpE90rpv/downloaded_packages’\n",
            "WARNING:rpy2.rinterface_lib.callbacks:R[write to console]: \n",
            "WARNING:rpy2.rinterface_lib.callbacks:R[write to console]: \n",
            "\n",
            "WARNING:rpy2.rinterface_lib.callbacks:R[write to console]: \n",
            "Attaching package: ‘dplyr’\n",
            "\n",
            "\n",
            "WARNING:rpy2.rinterface_lib.callbacks:R[write to console]: The following objects are masked from ‘package:stats’:\n",
            "\n",
            "    filter, lag\n",
            "\n",
            "\n",
            "WARNING:rpy2.rinterface_lib.callbacks:R[write to console]: The following objects are masked from ‘package:base’:\n",
            "\n",
            "    intersect, setdiff, setequal, union\n",
            "\n",
            "\n"
          ]
        }
      ]
    },
    {
      "cell_type": "code",
      "source": [
        "%%R\n",
        "#Provide the URL of the webpage you want to scrape\n",
        "web_url=\"https://www.celebritynetworth.com/list/top-100-richest-people-in-the-world/\"\n",
        "#Reading the HTML content of the webpage\n",
        "web_page=read_html(web_url)\n",
        "print(web_page)"
      ],
      "metadata": {
        "colab": {
          "base_uri": "https://localhost:8080/"
        },
        "id": "Nsob0Q_xzYli",
        "outputId": "c9d62e03-af18-4de8-c446-f58a5177ba5e"
      },
      "execution_count": 6,
      "outputs": [
        {
          "output_type": "stream",
          "name": "stdout",
          "text": [
            "{html_document}\n",
            "<html xmlns=\"http://www.w3.org/1999/xhtml\" dir=\"ltr\" lang=\"en-US\">\n",
            "[1] <head>\\n<meta http-equiv=\"Content-Type\" content=\"text/html; charset=UTF-8 ...\n",
            "[2] <body data-rsssl=\"1\" class=\"page-template-default page page-id-42383 wp-e ...\n"
          ]
        }
      ]
    },
    {
      "cell_type": "code",
      "source": [
        "%%R\n",
        "# extracting names of top 100 richest persons in the world\n",
        "name=web_page %>% html_nodes(\".name\")%>%html_text()\n",
        "print(name)"
      ],
      "metadata": {
        "colab": {
          "base_uri": "https://localhost:8080/"
        },
        "id": "DHeup5jnztMJ",
        "outputId": "937d799b-a23e-4e8c-f341-05ca6c3edfb5"
      },
      "execution_count": 7,
      "outputs": [
        {
          "output_type": "stream",
          "name": "stdout",
          "text": [
            "  [1] \"Elon Musk Net Worth\"                         \n",
            "  [2] \"Bernard Arnault Net Worth\"                   \n",
            "  [3] \"Jeff Bezos Net Worth\"                        \n",
            "  [4] \"Bill Gates Net Worth\"                        \n",
            "  [5] \"Steve Ballmer Net Worth\"                     \n",
            "  [6] \"Larry Page Net Worth\"                        \n",
            "  [7] \"Larry Ellison Net Worth\"                     \n",
            "  [8] \"Sergey Brin Net Worth\"                       \n",
            "  [9] \"Warren Buffett Net Worth\"                    \n",
            " [10] \"Mark Zuckerberg Net Worth\"                   \n",
            " [11] \"Carlos Slim Helu Net Worth\"                  \n",
            " [12] \"Françoise Bettencourt-Meyers Net Worth\"      \n",
            " [13] \"Mukesh Ambani Net Worth\"                     \n",
            " [14] \"Amancio Ortega Gaona Net Worth\"              \n",
            " [15] \"Gautam Adani Net Worth\"                      \n",
            " [16] \"Michael Dell Net Worth\"                      \n",
            " [17] \"Jim Walton Net Worth\"                        \n",
            " [18] \"Michael Bloomberg Net Worth\"                 \n",
            " [19] \"Vladimir Putin Net Worth\"                    \n",
            " [20] \"Rob Walton Net Worth\"                        \n",
            " [21] \"Alice Walton Net Worth\"                      \n",
            " [22] \"Zhong Shanshan Net Worth\"                    \n",
            " [23] \"Julia Flesher Koch Net Worth\"                \n",
            " [24] \"Charles Koch Net Worth\"                      \n",
            " [25] \"Jacqueline Mars Net Worth\"                   \n",
            " [26] \"John Mars Net Worth\"                         \n",
            " [27] \"Colin Huang Net Worth\"                       \n",
            " [28] \"David Thomson Net Worth\"                     \n",
            " [29] \"Gerard Wertheimer Net Worth\"                 \n",
            " [30] \"Alain Wertheimer Net Worth\"                  \n",
            " [31] \"Zhang Yiming Net Worth\"                      \n",
            " [32] \"Jensen Huang Net Worth\"                      \n",
            " [33] \"Phil Knight Net Worth\"                       \n",
            " [34] \"Stephen Schwarzman Net Worth\"                \n",
            " [35] \"Francois Pinault Net Worth\"                  \n",
            " [36] \"Len Blavatnik Net Worth\"                     \n",
            " [37] \"Ma Huateng Net Worth\"                        \n",
            " [38] \"MacKenzie Scott Net Worth\"                   \n",
            " [39] \"Vladimir Potanin Net Worth\"                  \n",
            " [40] \"Ken Griffin Net Worth\"                       \n",
            " [41] \"Tadashi Yanai Net Worth\"                     \n",
            " [42] \"Miriam Adelson Net Worth\"                    \n",
            " [43] \"Jack Ma Net Worth\"                           \n",
            " [44] \"Lee Shau Kee Net Worth\"                      \n",
            " [45] \"Dieter Schwarz Net Worth\"                    \n",
            " [46] \"Dan Gilbert Net Worth\"                       \n",
            " [47] \"Li Ka-shing Net Worth\"                       \n",
            " [48] \"Sultan of Brunei Net Worth\"                  \n",
            " [49] \"Sheikh Mansour bin Zayed Al Nahyan Net Worth\"\n",
            " [50] \"Maha Vajiralongkorn Net Worth\"               \n",
            " [51] \"Giovanni Ferrero Net Worth\"                  \n",
            " [52] \"Abigail Johnson Net Worth\"                   \n",
            " [53] \"Savitri Jindal Net Worth\"                    \n",
            " [54] \"He Xiangjian Net Worth\"                      \n",
            " [55] \"Susanne Klatten Net Worth\"                   \n",
            " [56] \"William Ding Net Worth\"                      \n",
            " [57] \"Stefan Quandt Net Worth\"                     \n",
            " [58] \"Shiv Nadar Net Worth\"                        \n",
            " [59] \"Eric Yuan Net Worth\"                         \n",
            " [60] \"Lukas Walton Net Worth\"                      \n",
            " [61] \"Iris Fontbona Net Worth\"                     \n",
            " [62] \"Elaine Marshall Net Worth\"                   \n",
            " [63] \"Takemitsu Takizaki Net Worth\"                \n",
            " [64] \"Pierre Omidyar Net Worth\"                    \n",
            " [65] \"Eric Schmidt Net Worth\"                      \n",
            " [66] \"Forrest Mars Jr Net Worth\"                   \n",
            " [67] \"Gina Rinehart Net Worth\"                     \n",
            " [68] \"James Dyson Net Worth\"                       \n",
            " [69] \"Qin Yinglin Net Worth\"                       \n",
            " [70] \"Wang Wei Net Worth\"                          \n",
            " [71] \"Changpeng Zhao Net Worth\"                    \n",
            " [72] \"James Simons Net Worth\"                      \n",
            " [73] \"Satoshi Nakamoto Net Worth\"                  \n",
            " [74] \"Leonard Lauder Net Worth\"                    \n",
            " [75] \"Aliko Dangote Net Worth\"                     \n",
            " [76] \"Alexey Mordashov Net Worth\"                  \n",
            " [77] \"Mark Mateschitz Net Worth\"                   \n",
            " [78] \"Sir Evelyn De Rothschild Net Worth\"          \n",
            " [79] \"Jorge Paulo Lemann Net Worth\"                \n",
            " [80] \"Salman bin Abdulaziz Al Saud Net Worth\"      \n",
            " [81] \"Leonid Mikhelson Net Worth\"                  \n",
            " [82] \"John Menard Net Worth\"                       \n",
            " [83] \"Dilip Shanghvi Net Worth\"                    \n",
            " [84] \"James Ratcliffe Net Worth\"                   \n",
            " [85] \"Pallonji Mistry Net Worth\"                   \n",
            " [86] \"Vladimir Lisin Net Worth\"                    \n",
            " [87] \"Sheikh Khalifa Bin Zayed Al Nahyan Net Worth\"\n",
            " [88] \"Logan Roy Net Worth\"                         \n",
            " [89] \"David & Simon Reuben Net Worth\"              \n",
            " [90] \"Lakshmi Mittal Net Worth\"                    \n",
            " [91] \"Alisher Usmanov Net Worth\"                   \n",
            " [92] \"Pavel Durov Net Worth\"                       \n",
            " [93] \"Harold Hamm Net Worth\"                       \n",
            " [94] \"Thomas Peterffy Net Worth\"                   \n",
            " [95] \"Donald Bren Net Worth\"                       \n",
            " [96] \"Viktor Vekselberg Net Worth\"                 \n",
            " [97] \"Prince Al Waleed Bin Talal Alsaud Net Worth\" \n",
            " [98] \"Thomas Kwok Net Worth\"                       \n",
            " [99] \"Ray Dalio Net Worth\"                         \n",
            "[100] \"Michael Otto Net Worth\"                      \n"
          ]
        }
      ]
    },
    {
      "cell_type": "code",
      "source": [
        "%%R\n",
        "# rank of the person\n",
        "rank=web_page %>% html_nodes(\".order\")%>%html_text()\n",
        "print(rank)\n",
        "\n",
        "#networth\n",
        "net_worth=web_page %>% html_nodes(\".net_worth\")%>%html_text()\n",
        "print(net_worth)"
      ],
      "metadata": {
        "colab": {
          "base_uri": "https://localhost:8080/"
        },
        "id": "l_-M54PqzypB",
        "outputId": "29da9759-4cbe-4a33-e77d-0ce6dd48b36c"
      },
      "execution_count": 10,
      "outputs": [
        {
          "output_type": "stream",
          "name": "stdout",
          "text": [
            "  [1] \"1\"   \"2\"   \"3\"   \"4\"   \"5\"   \"6\"   \"7\"   \"8\"   \"9\"   \"10\"  \"11\"  \"12\" \n",
            " [13] \"13\"  \"14\"  \"15\"  \"16\"  \"17\"  \"18\"  \"19\"  \"20\"  \"21\"  \"22\"  \"23\"  \"24\" \n",
            " [25] \"25\"  \"26\"  \"27\"  \"28\"  \"29\"  \"30\"  \"31\"  \"32\"  \"33\"  \"34\"  \"35\"  \"36\" \n",
            " [37] \"37\"  \"38\"  \"39\"  \"40\"  \"41\"  \"42\"  \"43\"  \"44\"  \"45\"  \"46\"  \"47\"  \"48\" \n",
            " [49] \"49\"  \"50\"  \"51\"  \"52\"  \"53\"  \"54\"  \"55\"  \"56\"  \"57\"  \"58\"  \"59\"  \"60\" \n",
            " [61] \"61\"  \"62\"  \"63\"  \"64\"  \"65\"  \"66\"  \"67\"  \"68\"  \"69\"  \"70\"  \"71\"  \"72\" \n",
            " [73] \"73\"  \"74\"  \"75\"  \"76\"  \"77\"  \"78\"  \"79\"  \"80\"  \"81\"  \"82\"  \"83\"  \"84\" \n",
            " [85] \"85\"  \"86\"  \"87\"  \"88\"  \"89\"  \"90\"  \"91\"  \"92\"  \"93\"  \"94\"  \"95\"  \"96\" \n",
            " [97] \"97\"  \"98\"  \"99\"  \"100\"\n",
            "  [1] \"$235 Billion\"  \"$180 Billion\"  \"$179 Billion\"  \"$138 Billion\" \n",
            "  [5] \"$130 Billion\"  \"$127 Billion\"  \"$123 Billion\"  \"$120 Billion\" \n",
            "  [9] \"$120 Billion\"  \"$118 Billion\"  \"$104 Billion\"  \"$98 Billion\"  \n",
            " [13] \"$95 Billion\"   \"$87 Billion\"   \"$85 Billion\"   \"$78 Billion\"  \n",
            " [17] \"$70 Billion\"   \"$70 Billion\"   \"$70 Billion\"   \"$68 Billion\"  \n",
            " [21] \"$68 Billion\"   \"$65 Billion\"   \"$63 Billion\"   \"$60 Billion\"  \n",
            " [25] \"$55 Billion\"   \"$54 Billion\"   \"$51 Billion\"   \"$50 Billion\"  \n",
            " [29] \"$45 Billion\"   \"$45 Billion\"   \"$44 Billion\"   \"$44 Billion\"  \n",
            " [33] \"$43 Billion\"   \"$42 Billion\"   \"$40 Billion\"   \"$40 Billion\"  \n",
            " [37] \"$38 Billion\"   \"$36 Billion\"   \"$35 Billion\"   \"$35 Billion\"  \n",
            " [41] \"$35 Billion\"   \"$34 Billion\"   \"$34 Billion\"   \"$33 Billion\"  \n",
            " [45] \"$32 Billion\"   \"$32 Billion\"   \"$31 Billion\"   \"$30 Billion\"  \n",
            " [49] \"$30 Billion\"   \"$30 Billion\"   \"$28 Billion\"   \"$28 Billion\"  \n",
            " [53] \"$27 Billion\"   \"$27 Billion\"   \"$26 Billion\"   \"$26 Billion\"  \n",
            " [57] \"$26 Billion\"   \"$25.9 Billion\" \"$25 Billion\"   \"$25 Billion\"  \n",
            " [61] \"$24 Billion\"   \"$24 Billion\"   \"$24 Billion\"   \"$24 Billion\"  \n",
            " [65] \"$24 Billion\"   \"$23.4 Billion\" \"$23 Billion\"   \"$22 Billion\"  \n",
            " [69] \"$22 Billion\"   \"$22 Billion\"   \"$22 Billion\"   \"$22 Billion\"  \n",
            " [73] \"$22 Billion\"   \"$21 Billion\"   \"$21 Billion\"   \"$20 Billion\"  \n",
            " [77] \"$20 Billion\"   \"$20 Billion\"   \"$20 Billion\"   \"$20 Billion\"  \n",
            " [81] \"$20 Billion\"   \"$20 Billion\"   \"$20 Billion\"   \"$19 Billion\"  \n",
            " [85] \"$19 Billion\"   \"$19 Billion\"   \"$18 Billion\"   \"$18 Billion\"  \n",
            " [89] \"$18 Billion\"   \"$18 Billion\"   \"$18 Billion\"   \"$17 Billion\"  \n",
            " [93] \"$17 Billion\"   \"$17 Billion\"   \"$17 Billion\"   \"$17 Billion\"  \n",
            " [97] \"$17 Billion\"   \"$16 Billion\"   \"$16 Billion\"   \"$16 Billion\"  \n"
          ]
        }
      ]
    },
    {
      "cell_type": "code",
      "source": [
        "%%R\n",
        "# Creating a dataframe with the extracted data\n",
        "rich_df=data.frame(rank,name,net_worth)\n",
        "head(rich_df)"
      ],
      "metadata": {
        "colab": {
          "base_uri": "https://localhost:8080/"
        },
        "id": "UOE4wfKbz8VX",
        "outputId": "413f90fe-b2a0-4c63-feba-0dede6110dd4"
      },
      "execution_count": 13,
      "outputs": [
        {
          "output_type": "stream",
          "name": "stdout",
          "text": [
            "  rank                      name    net_worth\n",
            "1    1       Elon Musk Net Worth $235 Billion\n",
            "2    2 Bernard Arnault Net Worth $180 Billion\n",
            "3    3      Jeff Bezos Net Worth $179 Billion\n",
            "4    4      Bill Gates Net Worth $138 Billion\n",
            "5    5   Steve Ballmer Net Worth $130 Billion\n",
            "6    6      Larry Page Net Worth $127 Billion\n"
          ]
        }
      ]
    }
  ]
}